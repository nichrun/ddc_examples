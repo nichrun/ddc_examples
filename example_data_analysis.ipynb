{
 "cells": [
  {
   "cell_type": "code",
   "execution_count": 1,
   "id": "f848e238",
   "metadata": {},
   "outputs": [],
   "source": [
    "import rdkit\n",
    "from rdkit.Chem import PandasTools\n",
    "import pandas as pd\n",
    "\n",
    "from IPython.display import HTML\n",
    "def show_df(df):\n",
    "    return HTML(df.to_html(notebook=True))"
   ]
  },
  {
   "cell_type": "code",
   "execution_count": 2,
   "id": "52f75db1",
   "metadata": {
    "scrolled": true
   },
   "outputs": [
    {
     "name": "stderr",
     "output_type": "stream",
     "text": [
      "/tmp/ipykernel_7565/2385612874.py:1: DtypeWarning: Columns (3,6,7,9,10,11,12,13,14,15,18,19,27,28,29,30,31,32,33,34,35,36,44,45,46,47,48,49,50,51,52,53,54,55,56,57,58,59,66,67,69,70,71,72,73,74,75,76,84,85,86,87,89,90,91,92,93,94,95,96,104,105,106,107,109,110,111,112,113,114,115,116,124,125,126,127,129,130,131,132,133,134,135,136,144,145,146,147,149,150,151,152,153,154,155,156,164,165,166,167,169,170,171,172,173,174,175,176,184,185,186,187,189,190,191,192,193,194,195,196,204,205,206,207,209,210,211,212,213,214,215,216,224,225,226,227,229,230,231,232,233,234,235,236,244,245,246,247,249,253,254,255,256,257,258,259,275,276) have mixed types. Specify dtype option on import or set low_memory=False.\n",
      "  df = pd.read_csv(\"../Moonshot/COVID_moonshot_submissions/covid_submissions_all_info.csv\")\n"
     ]
    }
   ],
   "source": [
    "df = pd.read_csv(\"../Moonshot/COVID_moonshot_submissions/covid_submissions_all_info.csv\")"
   ]
  },
  {
   "cell_type": "code",
   "execution_count": 3,
   "id": "3e17fadf",
   "metadata": {},
   "outputs": [
    {
     "name": "stdout",
     "output_type": "stream",
     "text": [
      "SMILES\n",
      "CID\n",
      "CID (canonical)\n",
      "CID (old format)\n",
      "Postera Link\n",
      "InChIKey\n",
      "creator\n",
      "rationale\n",
      "Submission Notes\n",
      "fragments\n",
      "Structure ID\n",
      "Fragalysis Link\n",
      "Enamine - REAL Space\n",
      "Enamine - Extended REAL Space\n",
      "Enamine - SCR\n",
      "Enamine - BB\n",
      "Mcule\n",
      "Mcule Ultimate\n",
      "In Molport or Mcule\n",
      "In eMolecules\n",
      "MW\n",
      "cLogP\n",
      "TPSA\n",
      "Rotatable Bonds\n",
      "Fraction sp3\n",
      "HBA\n",
      "HBD\n",
      "Covalent Fragment\n",
      "covalent_warhead\n",
      "Acrylamide\n",
      "Acrylamide Adduct\n",
      "Chloroacetamide\n",
      "Chloroacetamide Adduct\n",
      "Vinylsulfonamide\n",
      "Vinylsulfonamide Adduct\n",
      "Nitrile\n",
      "Nitrile Adduct\n",
      "series\n",
      "Order Date\n",
      "Maker\n",
      "Shipment Date\n",
      "inspired_by\n",
      "CDD_name\n",
      "CDD_mol_ID\n",
      "r_curve_IC50_x\n",
      "r_max_inhibition_reading_x\n",
      "r_min_inhibition_reading_x\n",
      "r_hill_slope_x\n",
      "r_R2_x\n",
      "r_concentration_uM_x\n",
      "r_inhibition_list_x\n",
      "f_curve_IC50_x\n",
      "f_max_inhibition_reading_x\n",
      "f_min_inhibition_reading_x\n",
      "f_hill_slope_x\n",
      "f_R2_x\n",
      "f_concentration_uM_x\n",
      "f_inhibition_list_x\n",
      "structure_ID_x\n",
      "structure_LINK_x\n",
      "ORDERED\n",
      "MAKER\n",
      "ORDER_DATE\n",
      "MADE\n",
      "SHIPMENT_DATE\n",
      "ASSAYED\n",
      "creator.1\n",
      "rationale.1\n",
      "fragments.1\n",
      "covalent_warhead.1\n",
      "r_curve_IC50_y\n",
      "r_max_inhibition_reading_y\n",
      "r_min_inhibition_reading_y\n",
      "r_hill_slope_y\n",
      "r_R2_y\n",
      "r_concentration_uM_y\n",
      "r_inhibition_list_y\n",
      "f_curve_IC50_y\n",
      "f_max_inhibition_reading_y\n",
      "f_min_inhibition_reading_y\n",
      "f_hill_slope_y\n",
      "f_R2_y\n",
      "f_concentration_uM_y\n",
      "f_inhibition_list_y\n",
      "structure_ID_y\n",
      "structure_LINK_y\n",
      "creator.1.1\n",
      "rationale.1.1\n",
      "fragments.1.1\n",
      "covalent_warhead.1.1\n",
      "r_curve_IC50_x.1\n",
      "r_max_inhibition_reading_x.1\n",
      "r_min_inhibition_reading_x.1\n",
      "r_hill_slope_x.1\n",
      "r_R2_x.1\n",
      "r_concentration_uM_x.1\n",
      "r_inhibition_list_x.1\n",
      "f_curve_IC50_x.1\n",
      "f_max_inhibition_reading_x.1\n",
      "f_min_inhibition_reading_x.1\n",
      "f_hill_slope_x.1\n",
      "f_R2_x.1\n",
      "f_concentration_uM_x.1\n",
      "f_inhibition_list_x.1\n",
      "structure_ID_x.1\n",
      "structure_LINK_x.1\n",
      "creator.1.1.1\n",
      "rationale.1.1.1\n",
      "fragments.1.1.1\n",
      "covalent_warhead.1.1.1\n",
      "r_curve_IC50_y.1\n",
      "r_max_inhibition_reading_y.1\n",
      "r_min_inhibition_reading_y.1\n",
      "r_hill_slope_y.1\n",
      "r_R2_y.1\n",
      "r_concentration_uM_y.1\n",
      "r_inhibition_list_y.1\n",
      "f_curve_IC50_y.1\n",
      "f_max_inhibition_reading_y.1\n",
      "f_min_inhibition_reading_y.1\n",
      "f_hill_slope_y.1\n",
      "f_R2_y.1\n",
      "f_concentration_uM_y.1\n",
      "f_inhibition_list_y.1\n",
      "structure_ID_y.1\n",
      "structure_LINK_y.1\n",
      "creator.1.1.1.1\n",
      "rationale.1.1.1.1\n",
      "fragments.1.1.1.1\n",
      "covalent_warhead.1.1.1.1\n",
      "r_curve_IC50_x.1.1\n",
      "r_max_inhibition_reading_x.1.1\n",
      "r_min_inhibition_reading_x.1.1\n",
      "r_hill_slope_x.1.1\n",
      "r_R2_x.1.1\n",
      "r_concentration_uM_x.1.1\n",
      "r_inhibition_list_x.1.1\n",
      "f_curve_IC50_x.1.1\n",
      "f_max_inhibition_reading_x.1.1\n",
      "f_min_inhibition_reading_x.1.1\n",
      "f_hill_slope_x.1.1\n",
      "f_R2_x.1.1\n",
      "f_concentration_uM_x.1.1\n",
      "f_inhibition_list_x.1.1\n",
      "structure_ID_x.1.1\n",
      "structure_LINK_x.1.1\n",
      "creator.1.1.1.1.1\n",
      "rationale.1.1.1.1.1\n",
      "fragments.1.1.1.1.1\n",
      "covalent_warhead.1.1.1.1.1\n",
      "r_curve_IC50_y.1.1\n",
      "r_max_inhibition_reading_y.1.1\n",
      "r_min_inhibition_reading_y.1.1\n",
      "r_hill_slope_y.1.1\n",
      "r_R2_y.1.1\n",
      "r_concentration_uM_y.1.1\n",
      "r_inhibition_list_y.1.1\n",
      "f_curve_IC50_y.1.1\n",
      "f_max_inhibition_reading_y.1.1\n",
      "f_min_inhibition_reading_y.1.1\n",
      "f_hill_slope_y.1.1\n",
      "f_R2_y.1.1\n",
      "f_concentration_uM_y.1.1\n",
      "f_inhibition_list_y.1.1\n",
      "structure_ID_y.1.1\n",
      "structure_LINK_y.1.1\n",
      "creator.1.1.1.1.1.1\n",
      "rationale.1.1.1.1.1.1\n",
      "fragments.1.1.1.1.1.1\n",
      "covalent_warhead.1.1.1.1.1.1\n",
      "r_curve_IC50_x.1.1.1\n",
      "r_max_inhibition_reading_x.1.1.1\n",
      "r_min_inhibition_reading_x.1.1.1\n",
      "r_hill_slope_x.1.1.1\n",
      "r_R2_x.1.1.1\n",
      "r_concentration_uM_x.1.1.1\n",
      "r_inhibition_list_x.1.1.1\n",
      "f_curve_IC50_x.1.1.1\n",
      "f_max_inhibition_reading_x.1.1.1\n",
      "f_min_inhibition_reading_x.1.1.1\n",
      "f_hill_slope_x.1.1.1\n",
      "f_R2_x.1.1.1\n",
      "f_concentration_uM_x.1.1.1\n",
      "f_inhibition_list_x.1.1.1\n",
      "structure_ID_x.1.1.1\n",
      "structure_LINK_x.1.1.1\n",
      "creator.1.1.1.1.1.1.1\n",
      "rationale.1.1.1.1.1.1.1\n",
      "fragments.1.1.1.1.1.1.1\n",
      "covalent_warhead.1.1.1.1.1.1.1\n",
      "r_curve_IC50_y.1.1.1\n",
      "r_max_inhibition_reading_y.1.1.1\n",
      "r_min_inhibition_reading_y.1.1.1\n",
      "r_hill_slope_y.1.1.1\n",
      "r_R2_y.1.1.1\n",
      "r_concentration_uM_y.1.1.1\n",
      "r_inhibition_list_y.1.1.1\n",
      "f_curve_IC50_y.1.1.1\n",
      "f_max_inhibition_reading_y.1.1.1\n",
      "f_min_inhibition_reading_y.1.1.1\n",
      "f_hill_slope_y.1.1.1\n",
      "f_R2_y.1.1.1\n",
      "f_concentration_uM_y.1.1.1\n",
      "f_inhibition_list_y.1.1.1\n",
      "structure_ID_y.1.1.1\n",
      "structure_LINK_y.1.1.1\n",
      "creator.1.1.1.1.1.1.1.1\n",
      "rationale.1.1.1.1.1.1.1.1\n",
      "fragments.1.1.1.1.1.1.1.1\n",
      "covalent_warhead.1.1.1.1.1.1.1.1\n",
      "r_curve_IC50_x.1.1.1.1\n",
      "r_max_inhibition_reading_x.1.1.1.1\n",
      "r_min_inhibition_reading_x.1.1.1.1\n",
      "r_hill_slope_x.1.1.1.1\n",
      "r_R2_x.1.1.1.1\n",
      "r_concentration_uM_x.1.1.1.1\n",
      "r_inhibition_list_x.1.1.1.1\n",
      "f_curve_IC50_x.1.1.1.1\n",
      "f_max_inhibition_reading_x.1.1.1.1\n",
      "f_min_inhibition_reading_x.1.1.1.1\n",
      "f_hill_slope_x.1.1.1.1\n",
      "f_R2_x.1.1.1.1\n",
      "f_concentration_uM_x.1.1.1.1\n",
      "f_inhibition_list_x.1.1.1.1\n",
      "structure_ID_x.1.1.1.1\n",
      "structure_LINK_x.1.1.1.1\n",
      "creator.1.1.1.1.1.1.1.1.1\n",
      "rationale.1.1.1.1.1.1.1.1.1\n",
      "fragments.1.1.1.1.1.1.1.1.1\n",
      "covalent_warhead.1.1.1.1.1.1.1.1.1\n",
      "r_curve_IC50_y.1.1.1.1\n",
      "r_max_inhibition_reading_y.1.1.1.1\n",
      "r_min_inhibition_reading_y.1.1.1.1\n",
      "r_hill_slope_y.1.1.1.1\n",
      "r_R2_y.1.1.1.1\n",
      "r_concentration_uM_y.1.1.1.1\n",
      "r_inhibition_list_y.1.1.1.1\n",
      "f_curve_IC50_y.1.1.1.1\n",
      "f_max_inhibition_reading_y.1.1.1.1\n",
      "f_min_inhibition_reading_y.1.1.1.1\n",
      "f_hill_slope_y.1.1.1.1\n",
      "f_R2_y.1.1.1.1\n",
      "f_concentration_uM_y.1.1.1.1\n",
      "f_inhibition_list_y.1.1.1.1\n",
      "structure_ID_y.1.1.1.1\n",
      "structure_LINK_y.1.1.1.1\n",
      "creator.2\n",
      "rationale.2\n",
      "fragments.2\n",
      "covalent_warhead.2\n",
      "r_inhibition_at_20_uM\n",
      "r_inhibition_at_50_uM\n",
      "r_avg_IC50\n",
      "r_curve_IC50\n",
      "r_max_inhibition_reading\n",
      "r_min_inhibition_reading\n",
      "r_hill_slope\n",
      "r_R2\n",
      "r_concentration_uM\n",
      "r_inhibition_list\n",
      "f_inhibition_at_20_uM\n",
      "f_inhibition_at_50_uM\n",
      "f_avg_IC50\n",
      "f_avg_pIC50\n",
      "f_curve_IC50\n",
      "f_max_inhibition_reading\n",
      "f_min_inhibition_reading\n",
      "f_hill_slope\n",
      "f_R2\n",
      "f_concentration_uM\n",
      "f_inhibition_list\n",
      "relative_solubility_at_20_uM\n",
      "relative_solubility_at_100_uM\n",
      "trypsin_IC50\n",
      "NMR_std_ratio\n",
      "structure_ID\n",
      "structure_LINK\n"
     ]
    }
   ],
   "source": [
    "for col in df.columns:\n",
    "    print(col)"
   ]
  },
  {
   "cell_type": "code",
   "execution_count": 4,
   "id": "4cdf21a9",
   "metadata": {},
   "outputs": [],
   "source": [
    "df_sub = df[[\"SMILES\", \"CID\", \"MW\", \"cLogP\", \"TPSA\", \"Rotatable Bonds\", \"Fraction sp3\", \"HBA\", \"HBD\", \"r_curve_IC50_y\", \"f_curve_IC50_y\"]]"
   ]
  },
  {
   "cell_type": "code",
   "execution_count": 23,
   "id": "28e3431a",
   "metadata": {},
   "outputs": [
    {
     "name": "stderr",
     "output_type": "stream",
     "text": [
      "[21:10:50] WARNING: not removing hydrogen atom without neighbors\n",
      "[21:10:51] WARNING: not removing hydrogen atom without neighbors\n",
      "/home/nichrun/miniconda3/envs/PyTorchDrug/lib/python3.8/site-packages/rdkit/Chem/PandasTools.py:451: SettingWithCopyWarning: \n",
      "A value is trying to be set on a copy of a slice from a DataFrame.\n",
      "Try using .loc[row_indexer,col_indexer] = value instead\n",
      "\n",
      "See the caveats in the documentation: https://pandas.pydata.org/pandas-docs/stable/user_guide/indexing.html#returning-a-view-versus-a-copy\n",
      "  frame[molCol] = frame[smilesCol].map(\n"
     ]
    }
   ],
   "source": [
    "PandasTools.AddMoleculeColumnToFrame(df_sub,'SMILES','Molecule',includeFingerprints=True)"
   ]
  },
  {
   "cell_type": "code",
   "execution_count": 12,
   "id": "06bc3020",
   "metadata": {
    "scrolled": true
   },
   "outputs": [
    {
     "data": {
      "text/html": [
       "<div>\n",
       "<style scoped>\n",
       "    .dataframe tbody tr th:only-of-type {\n",
       "        vertical-align: middle;\n",
       "    }\n",
       "\n",
       "    .dataframe tbody tr th {\n",
       "        vertical-align: top;\n",
       "    }\n",
       "\n",
       "    .dataframe thead th {\n",
       "        text-align: right;\n",
       "    }\n",
       "</style>\n",
       "<table border=\"1\" class=\"dataframe\">\n",
       "  <thead>\n",
       "    <tr style=\"text-align: right;\">\n",
       "      <th></th>\n",
       "      <th>SMILES</th>\n",
       "      <th>CID</th>\n",
       "      <th>MW</th>\n",
       "      <th>cLogP</th>\n",
       "      <th>TPSA</th>\n",
       "      <th>Rotatable Bonds</th>\n",
       "      <th>Fraction sp3</th>\n",
       "      <th>HBA</th>\n",
       "      <th>HBD</th>\n",
       "      <th>r_curve_IC50_y</th>\n",
       "      <th>f_curve_IC50_y</th>\n",
       "      <th>Molecule</th>\n",
       "    </tr>\n",
       "  </thead>\n",
       "  <tbody>\n",
       "    <tr>\n",
       "      <th>0</th>\n",
       "      <td>N#Cc1ccccc1NC(=O)Cc1c[nH]c2ncccc12</td>\n",
       "      <td>ANT-DIA-3c79be55-1</td>\n",
       "      <td>276.299</td>\n",
       "      <td>2.61578</td>\n",
       "      <td>81.57</td>\n",
       "      <td>3.0</td>\n",
       "      <td>0.06</td>\n",
       "      <td>3.0</td>\n",
       "      <td>2.0</td>\n",
       "      <td>NaN</td>\n",
       "      <td>NaN</td>\n",
       "      <td style=\"text-align: center;\"><img data-content=\"rdkit/molecule\" src=\"data:image/png;base64,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\" alt=\"Mol\"/></td>\n",
       "    </tr>\n",
       "    <tr>\n",
       "      <th>1</th>\n",
       "      <td>N#Cc1ccccc1NC(=O)Cc1cccnc1</td>\n",
       "      <td>ANT-DIA-3c79be55-2</td>\n",
       "      <td>237.262</td>\n",
       "      <td>2.13448</td>\n",
       "      <td>65.78</td>\n",
       "      <td>3.0</td>\n",
       "      <td>0.07</td>\n",
       "      <td>3.0</td>\n",
       "      <td>1.0</td>\n",
       "      <td>NaN</td>\n",
       "      <td>NaN</td>\n",
       "      <td style=\"text-align: center;\"><img data-content=\"rdkit/molecule\" src=\"data:image/png;base64,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\" alt=\"Mol\"/></td>\n",
       "    </tr>\n",
       "    <tr>\n",
       "      <th>2</th>\n",
       "      <td>CCNc1ccc(C#N)c(NC(=O)Cc2c[nH]c3ncccc23)c1</td>\n",
       "      <td>ANT-DIA-3c79be55-3</td>\n",
       "      <td>319.368</td>\n",
       "      <td>3.04758</td>\n",
       "      <td>93.60</td>\n",
       "      <td>5.0</td>\n",
       "      <td>0.17</td>\n",
       "      <td>4.0</td>\n",
       "      <td>3.0</td>\n",
       "      <td>NaN</td>\n",
       "      <td>NaN</td>\n",
       "      <td style=\"text-align: center;\"><img data-content=\"rdkit/molecule\" src=\"data:image/png;base64,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\" alt=\"Mol\"/></td>\n",
       "    </tr>\n",
       "    <tr>\n",
       "      <th>3</th>\n",
       "      <td>CS(=O)(=O)Cc1ccc(C(=O)Nc2cccnc2)o1</td>\n",
       "      <td>ANT-DIA-3c79be55-4</td>\n",
       "      <td>280.305</td>\n",
       "      <td>1.47150</td>\n",
       "      <td>89.27</td>\n",
       "      <td>4.0</td>\n",
       "      <td>0.17</td>\n",
       "      <td>5.0</td>\n",
       "      <td>1.0</td>\n",
       "      <td>NaN</td>\n",
       "      <td>NaN</td>\n",
       "      <td style=\"text-align: center;\"><img data-content=\"rdkit/molecule\" src=\"data:image/png;base64,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\" alt=\"Mol\"/></td>\n",
       "    </tr>\n",
       "    <tr>\n",
       "      <th>4</th>\n",
       "      <td>O=C(Nc1cccnc1)c1ccc(N2CCC(O)CC2)o1</td>\n",
       "      <td>ANT-DIA-3c79be55-5</td>\n",
       "      <td>287.319</td>\n",
       "      <td>1.88800</td>\n",
       "      <td>78.60</td>\n",
       "      <td>3.0</td>\n",
       "      <td>0.33</td>\n",
       "      <td>5.0</td>\n",
       "      <td>2.0</td>\n",
       "      <td>NaN</td>\n",
       "      <td>NaN</td>\n",
       "      <td style=\"text-align: center;\"><img data-content=\"rdkit/molecule\" src=\"data:image/png;base64,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\" alt=\"Mol\"/></td>\n",
       "    </tr>\n",
       "  </tbody>\n",
       "</table>\n",
       "</div>"
      ],
      "text/plain": [
       "<IPython.core.display.HTML object>"
      ]
     },
     "execution_count": 12,
     "metadata": {},
     "output_type": "execute_result"
    }
   ],
   "source": [
    "#show_df(df_sub.head())"
   ]
  },
  {
   "cell_type": "code",
   "execution_count": 40,
   "id": "187d8d39",
   "metadata": {},
   "outputs": [],
   "source": [
    "df_ic50 = df_sub[df_sub['r_curve_IC50_y'].notna()]"
   ]
  },
  {
   "cell_type": "code",
   "execution_count": 41,
   "id": "94cba4cd",
   "metadata": {},
   "outputs": [],
   "source": [
    "\"\"\"\n",
    "df_ic50 = df_ic50[df_ic50[\"f_curve_IC50_y\"] != \"[nan]\"]\n",
    "df_ic50 = df_ic50[df_ic50[\"f_curve_IC50_y\"] != \"[nan, nan]\"]\n",
    "df_ic50 = df_ic50[df_ic50[\"f_curve_IC50_y\"] != \"[nan, nan, nan]\"]\n",
    "\"\"\"\n",
    "df_ic50 = df_ic50[df_ic50[\"r_curve_IC50_y\"] != \"[99]\"]\n"
   ]
  },
  {
   "cell_type": "code",
   "execution_count": 54,
   "id": "70298d5c",
   "metadata": {
    "scrolled": false
   },
   "outputs": [
    {
     "name": "stderr",
     "output_type": "stream",
     "text": [
      "/tmp/ipykernel_6863/1435083302.py:3: SettingWithCopyWarning: \n",
      "A value is trying to be set on a copy of a slice from a DataFrame.\n",
      "Try using .loc[row_indexer,col_indexer] = value instead\n",
      "\n",
      "See the caveats in the documentation: https://pandas.pydata.org/pandas-docs/stable/user_guide/indexing.html#returning-a-view-versus-a-copy\n",
      "  analysis_df['r_curve_IC50_y'] = analysis_df['r_curve_IC50_y'].str.split(\"[\").str[1]\n",
      "/tmp/ipykernel_6863/1435083302.py:4: SettingWithCopyWarning: \n",
      "A value is trying to be set on a copy of a slice from a DataFrame.\n",
      "Try using .loc[row_indexer,col_indexer] = value instead\n",
      "\n",
      "See the caveats in the documentation: https://pandas.pydata.org/pandas-docs/stable/user_guide/indexing.html#returning-a-view-versus-a-copy\n",
      "  analysis_df['r_curve_IC50_y'] = analysis_df['r_curve_IC50_y'].str.split(\"]\").str[0]\n"
     ]
    }
   ],
   "source": [
    "analysis_df = df_ic50[[\"SMILES\", \"r_curve_IC50_y\"]]\n",
    "\n",
    "analysis_df['r_curve_IC50_y'] = analysis_df['r_curve_IC50_y'].str.split(\"[\").str[1]\n",
    "analysis_df['r_curve_IC50_y'] = analysis_df['r_curve_IC50_y'].str.split(\"]\").str[0]"
   ]
  },
  {
   "cell_type": "code",
   "execution_count": 55,
   "id": "615b3740",
   "metadata": {
    "scrolled": true
   },
   "outputs": [
    {
     "data": {
      "text/html": [
       "<div>\n",
       "<style scoped>\n",
       "    .dataframe tbody tr th:only-of-type {\n",
       "        vertical-align: middle;\n",
       "    }\n",
       "\n",
       "    .dataframe tbody tr th {\n",
       "        vertical-align: top;\n",
       "    }\n",
       "\n",
       "    .dataframe thead th {\n",
       "        text-align: right;\n",
       "    }\n",
       "</style>\n",
       "<table border=\"1\" class=\"dataframe\">\n",
       "  <thead>\n",
       "    <tr style=\"text-align: right;\">\n",
       "      <th></th>\n",
       "      <th>SMILES</th>\n",
       "      <th>r_curve_IC50_y</th>\n",
       "    </tr>\n",
       "  </thead>\n",
       "  <tbody>\n",
       "    <tr>\n",
       "      <th>35</th>\n",
       "      <td>N#Cc1cccc(NC(=O)Cc2cncc3ccccc23)c1</td>\n",
       "      <td>14.64109075330777</td>\n",
       "    </tr>\n",
       "    <tr>\n",
       "      <th>36</th>\n",
       "      <td>O=C(Cc1cncc2ccccc12)Nc1ccccc1</td>\n",
       "      <td>45.077469206238916</td>\n",
       "    </tr>\n",
       "    <tr>\n",
       "      <th>126</th>\n",
       "      <td>Cc1c(N)cncc1NC(=O)Cc1cccc(Cl)c1</td>\n",
       "      <td>8.201698059536477</td>\n",
       "    </tr>\n",
       "    <tr>\n",
       "      <th>129</th>\n",
       "      <td>Cc1ccncc1NC(=O)Cc1cccc(Cl)c1</td>\n",
       "      <td>13.895164921785092</td>\n",
       "    </tr>\n",
       "    <tr>\n",
       "      <th>135</th>\n",
       "      <td>Cc1ccncc1NC(=O)Nc1cccc(Cl)c1</td>\n",
       "      <td>45.68926278614792</td>\n",
       "    </tr>\n",
       "    <tr>\n",
       "      <th>...</th>\n",
       "      <td>...</td>\n",
       "      <td>...</td>\n",
       "    </tr>\n",
       "    <tr>\n",
       "      <th>17339</th>\n",
       "      <td>O=C(Nc1cncc2ccccc12)C1CCOc2cc(Cl)c(Cl)cc21</td>\n",
       "      <td>0.3093367364269979</td>\n",
       "    </tr>\n",
       "    <tr>\n",
       "      <th>17727</th>\n",
       "      <td>O=C(CCl)N1CCN(Cc2cccc(Cl)c2)CC1</td>\n",
       "      <td>0.5454483607644363</td>\n",
       "    </tr>\n",
       "    <tr>\n",
       "      <th>17758</th>\n",
       "      <td>CO[C@@]1(C(=O)Nc2cncc3ccccc23)CCOc2ccc(Cl)cc21</td>\n",
       "      <td>0.17406081004871454</td>\n",
       "    </tr>\n",
       "    <tr>\n",
       "      <th>18087</th>\n",
       "      <td>O=C(CCl)N1CCN(S(=O)(=O)c2cccc(F)c2)CC1</td>\n",
       "      <td>2.023560710329674</td>\n",
       "    </tr>\n",
       "    <tr>\n",
       "      <th>18270</th>\n",
       "      <td>O=C(Nc1cncc2ccccc12)C1CNCc2ccc(Cl)cc21</td>\n",
       "      <td>2.7951968904803834</td>\n",
       "    </tr>\n",
       "  </tbody>\n",
       "</table>\n",
       "<p>604 rows × 2 columns</p>\n",
       "</div>"
      ],
      "text/plain": [
       "                                               SMILES       r_curve_IC50_y\n",
       "35                 N#Cc1cccc(NC(=O)Cc2cncc3ccccc23)c1    14.64109075330777\n",
       "36                      O=C(Cc1cncc2ccccc12)Nc1ccccc1   45.077469206238916\n",
       "126                   Cc1c(N)cncc1NC(=O)Cc1cccc(Cl)c1    8.201698059536477\n",
       "129                      Cc1ccncc1NC(=O)Cc1cccc(Cl)c1   13.895164921785092\n",
       "135                      Cc1ccncc1NC(=O)Nc1cccc(Cl)c1    45.68926278614792\n",
       "...                                               ...                  ...\n",
       "17339      O=C(Nc1cncc2ccccc12)C1CCOc2cc(Cl)c(Cl)cc21   0.3093367364269979\n",
       "17727                 O=C(CCl)N1CCN(Cc2cccc(Cl)c2)CC1   0.5454483607644363\n",
       "17758  CO[C@@]1(C(=O)Nc2cncc3ccccc23)CCOc2ccc(Cl)cc21  0.17406081004871454\n",
       "18087          O=C(CCl)N1CCN(S(=O)(=O)c2cccc(F)c2)CC1    2.023560710329674\n",
       "18270          O=C(Nc1cncc2ccccc12)C1CNCc2ccc(Cl)cc21   2.7951968904803834\n",
       "\n",
       "[604 rows x 2 columns]"
      ]
     },
     "execution_count": 55,
     "metadata": {},
     "output_type": "execute_result"
    }
   ],
   "source": [
    "analysis_df"
   ]
  },
  {
   "cell_type": "code",
   "execution_count": 59,
   "id": "8a6c1dea",
   "metadata": {},
   "outputs": [],
   "source": [
    "analysis_df = analysis_df[analysis_df[\"r_curve_IC50_y\"] != \"99, nan\"]"
   ]
  },
  {
   "cell_type": "code",
   "execution_count": 63,
   "id": "94727a24",
   "metadata": {
    "scrolled": true
   },
   "outputs": [
    {
     "name": "stderr",
     "output_type": "stream",
     "text": [
      "/tmp/ipykernel_6863/904429497.py:1: SettingWithCopyWarning: \n",
      "A value is trying to be set on a copy of a slice from a DataFrame.\n",
      "Try using .loc[row_indexer,col_indexer] = value instead\n",
      "\n",
      "See the caveats in the documentation: https://pandas.pydata.org/pandas-docs/stable/user_guide/indexing.html#returning-a-view-versus-a-copy\n",
      "  analysis_df['r_curve_IC50_y'] = analysis_df['r_curve_IC50_y'].str.split(\",\").str[0]\n"
     ]
    }
   ],
   "source": [
    "analysis_df['r_curve_IC50_y'] = analysis_df['r_curve_IC50_y'].str.split(\",\").str[0]"
   ]
  },
  {
   "cell_type": "code",
   "execution_count": 65,
   "id": "3407fd7d",
   "metadata": {},
   "outputs": [],
   "source": [
    "analysis_df = analysis_df[analysis_df[\"r_curve_IC50_y\"] != \"nan\"]"
   ]
  },
  {
   "cell_type": "code",
   "execution_count": 66,
   "id": "7e69151f",
   "metadata": {},
   "outputs": [
    {
     "name": "stderr",
     "output_type": "stream",
     "text": [
      "/tmp/ipykernel_6863/1314092130.py:1: SettingWithCopyWarning: \n",
      "A value is trying to be set on a copy of a slice from a DataFrame.\n",
      "Try using .loc[row_indexer,col_indexer] = value instead\n",
      "\n",
      "See the caveats in the documentation: https://pandas.pydata.org/pandas-docs/stable/user_guide/indexing.html#returning-a-view-versus-a-copy\n",
      "  analysis_df[\"IC50\"] = pd.to_numeric(analysis_df[\"r_curve_IC50_y\"])\n"
     ]
    }
   ],
   "source": [
    "analysis_df[\"IC50\"] = pd.to_numeric(analysis_df[\"r_curve_IC50_y\"])"
   ]
  },
  {
   "cell_type": "code",
   "execution_count": 69,
   "id": "2d327957",
   "metadata": {},
   "outputs": [
    {
     "data": {
      "text/html": [
       "<div>\n",
       "<style scoped>\n",
       "    .dataframe tbody tr th:only-of-type {\n",
       "        vertical-align: middle;\n",
       "    }\n",
       "\n",
       "    .dataframe tbody tr th {\n",
       "        vertical-align: top;\n",
       "    }\n",
       "\n",
       "    .dataframe thead th {\n",
       "        text-align: right;\n",
       "    }\n",
       "</style>\n",
       "<table border=\"1\" class=\"dataframe\">\n",
       "  <thead>\n",
       "    <tr style=\"text-align: right;\">\n",
       "      <th></th>\n",
       "      <th>SMILES</th>\n",
       "      <th>r_curve_IC50_y</th>\n",
       "      <th>IC50</th>\n",
       "    </tr>\n",
       "  </thead>\n",
       "  <tbody>\n",
       "    <tr>\n",
       "      <th>35</th>\n",
       "      <td>N#Cc1cccc(NC(=O)Cc2cncc3ccccc23)c1</td>\n",
       "      <td>14.64109075330777</td>\n",
       "      <td>14.641091</td>\n",
       "    </tr>\n",
       "    <tr>\n",
       "      <th>36</th>\n",
       "      <td>O=C(Cc1cncc2ccccc12)Nc1ccccc1</td>\n",
       "      <td>45.077469206238916</td>\n",
       "      <td>45.077469</td>\n",
       "    </tr>\n",
       "    <tr>\n",
       "      <th>126</th>\n",
       "      <td>Cc1c(N)cncc1NC(=O)Cc1cccc(Cl)c1</td>\n",
       "      <td>8.201698059536477</td>\n",
       "      <td>8.201698</td>\n",
       "    </tr>\n",
       "    <tr>\n",
       "      <th>129</th>\n",
       "      <td>Cc1ccncc1NC(=O)Cc1cccc(Cl)c1</td>\n",
       "      <td>13.895164921785092</td>\n",
       "      <td>13.895165</td>\n",
       "    </tr>\n",
       "    <tr>\n",
       "      <th>135</th>\n",
       "      <td>Cc1ccncc1NC(=O)Nc1cccc(Cl)c1</td>\n",
       "      <td>45.68926278614792</td>\n",
       "      <td>45.689263</td>\n",
       "    </tr>\n",
       "    <tr>\n",
       "      <th>...</th>\n",
       "      <td>...</td>\n",
       "      <td>...</td>\n",
       "      <td>...</td>\n",
       "    </tr>\n",
       "    <tr>\n",
       "      <th>17339</th>\n",
       "      <td>O=C(Nc1cncc2ccccc12)C1CCOc2cc(Cl)c(Cl)cc21</td>\n",
       "      <td>0.3093367364269979</td>\n",
       "      <td>0.309337</td>\n",
       "    </tr>\n",
       "    <tr>\n",
       "      <th>17727</th>\n",
       "      <td>O=C(CCl)N1CCN(Cc2cccc(Cl)c2)CC1</td>\n",
       "      <td>0.5454483607644363</td>\n",
       "      <td>0.545448</td>\n",
       "    </tr>\n",
       "    <tr>\n",
       "      <th>17758</th>\n",
       "      <td>CO[C@@]1(C(=O)Nc2cncc3ccccc23)CCOc2ccc(Cl)cc21</td>\n",
       "      <td>0.17406081004871454</td>\n",
       "      <td>0.174061</td>\n",
       "    </tr>\n",
       "    <tr>\n",
       "      <th>18087</th>\n",
       "      <td>O=C(CCl)N1CCN(S(=O)(=O)c2cccc(F)c2)CC1</td>\n",
       "      <td>2.023560710329674</td>\n",
       "      <td>2.023561</td>\n",
       "    </tr>\n",
       "    <tr>\n",
       "      <th>18270</th>\n",
       "      <td>O=C(Nc1cncc2ccccc12)C1CNCc2ccc(Cl)cc21</td>\n",
       "      <td>2.7951968904803834</td>\n",
       "      <td>2.795197</td>\n",
       "    </tr>\n",
       "  </tbody>\n",
       "</table>\n",
       "<p>567 rows × 3 columns</p>\n",
       "</div>"
      ],
      "text/plain": [
       "                                               SMILES       r_curve_IC50_y  \\\n",
       "35                 N#Cc1cccc(NC(=O)Cc2cncc3ccccc23)c1    14.64109075330777   \n",
       "36                      O=C(Cc1cncc2ccccc12)Nc1ccccc1   45.077469206238916   \n",
       "126                   Cc1c(N)cncc1NC(=O)Cc1cccc(Cl)c1    8.201698059536477   \n",
       "129                      Cc1ccncc1NC(=O)Cc1cccc(Cl)c1   13.895164921785092   \n",
       "135                      Cc1ccncc1NC(=O)Nc1cccc(Cl)c1    45.68926278614792   \n",
       "...                                               ...                  ...   \n",
       "17339      O=C(Nc1cncc2ccccc12)C1CCOc2cc(Cl)c(Cl)cc21   0.3093367364269979   \n",
       "17727                 O=C(CCl)N1CCN(Cc2cccc(Cl)c2)CC1   0.5454483607644363   \n",
       "17758  CO[C@@]1(C(=O)Nc2cncc3ccccc23)CCOc2ccc(Cl)cc21  0.17406081004871454   \n",
       "18087          O=C(CCl)N1CCN(S(=O)(=O)c2cccc(F)c2)CC1    2.023560710329674   \n",
       "18270          O=C(Nc1cncc2ccccc12)C1CNCc2ccc(Cl)cc21   2.7951968904803834   \n",
       "\n",
       "            IC50  \n",
       "35     14.641091  \n",
       "36     45.077469  \n",
       "126     8.201698  \n",
       "129    13.895165  \n",
       "135    45.689263  \n",
       "...          ...  \n",
       "17339   0.309337  \n",
       "17727   0.545448  \n",
       "17758   0.174061  \n",
       "18087   2.023561  \n",
       "18270   2.795197  \n",
       "\n",
       "[567 rows x 3 columns]"
      ]
     },
     "execution_count": 69,
     "metadata": {},
     "output_type": "execute_result"
    }
   ],
   "source": [
    "analysis_df"
   ]
  },
  {
   "cell_type": "code",
   "execution_count": 70,
   "id": "513d97a1",
   "metadata": {},
   "outputs": [
    {
     "name": "stderr",
     "output_type": "stream",
     "text": [
      "/home/nichrun/miniconda3/envs/PyTorchDrug/lib/python3.8/site-packages/rdkit/Chem/PandasTools.py:451: SettingWithCopyWarning: \n",
      "A value is trying to be set on a copy of a slice from a DataFrame.\n",
      "Try using .loc[row_indexer,col_indexer] = value instead\n",
      "\n",
      "See the caveats in the documentation: https://pandas.pydata.org/pandas-docs/stable/user_guide/indexing.html#returning-a-view-versus-a-copy\n",
      "  frame[molCol] = frame[smilesCol].map(\n"
     ]
    }
   ],
   "source": [
    "PandasTools.AddMoleculeColumnToFrame(analysis_df,'SMILES','Molecule',includeFingerprints=True)"
   ]
  },
  {
   "cell_type": "code",
   "execution_count": 102,
   "id": "9cc02343",
   "metadata": {},
   "outputs": [
    {
     "data": {
      "image/png": "[encoded data removed]",
      "text/plain": [
       "<rdkit.Chem.rdchem.Mol at 0x7faa4b86e040>"
      ]
     },
     "execution_count": 102,
     "metadata": {},
     "output_type": "execute_result"
    }
   ],
   "source": [
    "analysis_df.loc[analysis_df['IC50'].idxmax()].Molecule"
   ]
  },
  {
   "cell_type": "code",
   "execution_count": 103,
   "id": "ef66706d",
   "metadata": {},
   "outputs": [
    {
     "data": {
      "image/png": "[encoded data removed]",
      "text/plain": [
       "<rdkit.Chem.rdchem.Mol at 0x7faa4b8e7940>"
      ]
     },
     "execution_count": 103,
     "metadata": {},
     "output_type": "execute_result"
    }
   ],
   "source": [
    "analysis_df.loc[analysis_df['IC50'].idxmin()].Molecule"
   ]
  },
  {
   "cell_type": "code",
   "execution_count": 101,
   "id": "994e5bf4",
   "metadata": {},
   "outputs": [
    {
     "data": {
      "text/plain": [
       "99.80167029355242"
      ]
     },
     "execution_count": 101,
     "metadata": {},
     "output_type": "execute_result"
    }
   ],
   "source": [
    "analysis_df[\"IC50\"].max()"
   ]
  },
  {
   "cell_type": "code",
   "execution_count": 164,
   "id": "4a0e73e1",
   "metadata": {},
   "outputs": [],
   "source": [
    "from sklearn import svm\n",
    "from sklearn.model_selection import train_test_split\n",
    "from rdkit import Chem\n",
    "from sklearn.metrics import accuracy_score # Clasification\n",
    "from sklearn.metrics import r2_score"
   ]
  },
  {
   "cell_type": "markdown",
   "id": "24aad4ea",
   "metadata": {},
   "source": [
    "# SVM (failed)"
   ]
  },
  {
   "cell_type": "code",
   "execution_count": 224,
   "id": "61d70ba0",
   "metadata": {},
   "outputs": [],
   "source": [
    "# Removing high scoring molecules\n",
    "analysis_df_cleaned = analysis_df[analysis_df[\"IC50\"] < 20]\n",
    "\n",
    "fps_simp = [Chem.RDKFingerprint(x) for x in analysis_df_cleaned[\"Molecule\"]]\n",
    "IC50_list_simp = list(analysis_df_cleaned[\"IC50\"])\n",
    "\n",
    "X_train_simp , X_test_simp , y_train_simp, y_test_simp = train_test_split(fps_simp, IC50_list_simp, random_state=0)"
   ]
  },
  {
   "cell_type": "code",
   "execution_count": 201,
   "id": "aded94c8",
   "metadata": {},
   "outputs": [],
   "source": [
    "fps = [Chem.RDKFingerprint(x) for x in analysis_df_cleaned[\"Molecule\"]]\n",
    "IC50_list = list(analysis_df_cleaned[\"IC50\"])"
   ]
  },
  {
   "cell_type": "code",
   "execution_count": 202,
   "id": "7f21cf0b",
   "metadata": {},
   "outputs": [],
   "source": [
    "X_train , X_test , y_train, y_test = train_test_split(fps, IC50_list, random_state=0)"
   ]
  },
  {
   "cell_type": "code",
   "execution_count": 203,
   "id": "6a67096a",
   "metadata": {},
   "outputs": [
    {
     "data": {
      "text/plain": [
       "0.041495229526379074"
      ]
     },
     "execution_count": 203,
     "metadata": {},
     "output_type": "execute_result"
    }
   ],
   "source": [
    "#SVR model\n",
    "regr = svm.SVR()\n",
    "regr.fit(X_train, y_train)\n",
    "predictions = regr.predict(X_test)\n",
    "r2_score(y_test, predictions)"
   ]
  },
  {
   "cell_type": "code",
   "execution_count": 7,
   "id": "d041739e",
   "metadata": {},
   "outputs": [],
   "source": [
    "import matplotlib.pyplot as plt"
   ]
  },
  {
   "cell_type": "code",
   "execution_count": 205,
   "id": "469fb958",
   "metadata": {},
   "outputs": [
    {
     "data": {
      "text/plain": [
       "<matplotlib.collections.PathCollection at 0x7faa58993610>"
      ]
     },
     "execution_count": 205,
     "metadata": {},
     "output_type": "execute_result"
    },
    {
     "data": {
      "image/png": "[encoded data removed]",
      "text/plain": [
       "<Figure size 432x288 with 1 Axes>"
      ]
     },
     "metadata": {
      "needs_background": "light"
     },
     "output_type": "display_data"
    }
   ],
   "source": [
    "plt.scatter(y_test, predictions)"
   ]
  },
  {
   "cell_type": "markdown",
   "id": "06b60c88",
   "metadata": {},
   "source": [
    "# SVR - Linear Kernel"
   ]
  },
  {
   "cell_type": "code",
   "execution_count": 209,
   "id": "5d967d74",
   "metadata": {},
   "outputs": [],
   "source": [
    "fps = [Chem.RDKFingerprint(x) for x in analysis_df[\"Molecule\"]]\n",
    "IC50_list = list(analysis_df[\"IC50\"])\n",
    "X_train , X_test , y_train, y_test = train_test_split(fps, IC50_list, random_state=0)"
   ]
  },
  {
   "cell_type": "code",
   "execution_count": 210,
   "id": "886b96a9",
   "metadata": {},
   "outputs": [
    {
     "data": {
      "text/plain": [
       "0.49091850050683405"
      ]
     },
     "execution_count": 210,
     "metadata": {},
     "output_type": "execute_result"
    }
   ],
   "source": [
    "model = svm.SVR(kernel=\"linear\")\n",
    "\n",
    "model.fit(X_train, y_train)\n",
    "predictions = model.predict(X_test)\n",
    "r2_score(y_test, predictions)"
   ]
  },
  {
   "cell_type": "code",
   "execution_count": 211,
   "id": "1a7a6ac1",
   "metadata": {},
   "outputs": [
    {
     "data": {
      "text/plain": [
       "<matplotlib.collections.PathCollection at 0x7faa588d4610>"
      ]
     },
     "execution_count": 211,
     "metadata": {},
     "output_type": "execute_result"
    },
    {
     "data": {
      "image/png": "[encoded data removed]",
      "text/plain": [
       "<Figure size 432x288 with 1 Axes>"
      ]
     },
     "metadata": {
      "needs_background": "light"
     },
     "output_type": "display_data"
    }
   ],
   "source": [
    "plt.scatter(y_test, predictions)"
   ]
  },
  {
   "cell_type": "markdown",
   "id": "60e2417c",
   "metadata": {},
   "source": [
    "# Decision Tree"
   ]
  },
  {
   "cell_type": "code",
   "execution_count": 213,
   "id": "a8e00fa2",
   "metadata": {},
   "outputs": [],
   "source": [
    "from sklearn import tree"
   ]
  },
  {
   "cell_type": "code",
   "execution_count": 214,
   "id": "566d9d39",
   "metadata": {},
   "outputs": [],
   "source": [
    "fps = [Chem.RDKFingerprint(x) for x in analysis_df[\"Molecule\"]]\n",
    "IC50_list = list(analysis_df[\"IC50\"])\n",
    "X_train , X_test , y_train, y_test = train_test_split(fps, IC50_list, random_state=0)"
   ]
  },
  {
   "cell_type": "code",
   "execution_count": 215,
   "id": "eba2a607",
   "metadata": {},
   "outputs": [
    {
     "data": {
      "text/plain": [
       "0.13218879613394607"
      ]
     },
     "execution_count": 215,
     "metadata": {},
     "output_type": "execute_result"
    }
   ],
   "source": [
    "model = tree.DecisionTreeRegressor()\n",
    "\n",
    "model.fit(X_train, y_train)\n",
    "predictions = model.predict(X_test)\n",
    "r2_score(y_test, predictions)"
   ]
  },
  {
   "cell_type": "code",
   "execution_count": 216,
   "id": "b9c46ecb",
   "metadata": {},
   "outputs": [
    {
     "data": {
      "text/plain": [
       "<matplotlib.collections.PathCollection at 0x7faa585cf5e0>"
      ]
     },
     "execution_count": 216,
     "metadata": {},
     "output_type": "execute_result"
    },
    {
     "data": {
      "image/png": "[encoded data removed]",
      "text/plain": [
       "<Figure size 432x288 with 1 Axes>"
      ]
     },
     "metadata": {
      "needs_background": "light"
     },
     "output_type": "display_data"
    }
   ],
   "source": [
    "plt.scatter(y_test, predictions)"
   ]
  },
  {
   "cell_type": "markdown",
   "id": "1039d4ad",
   "metadata": {},
   "source": [
    "# Random Forrest"
   ]
  },
  {
   "cell_type": "code",
   "execution_count": 226,
   "id": "2f6e585f",
   "metadata": {},
   "outputs": [
    {
     "data": {
      "text/plain": [
       "0.2513180578599764"
      ]
     },
     "execution_count": 226,
     "metadata": {},
     "output_type": "execute_result"
    }
   ],
   "source": [
    "from sklearn.ensemble import RandomForestRegressor\n",
    "from sklearn.datasets import make_regression\n",
    "\n",
    "model = RandomForestRegressor(max_depth=3, random_state=0)\n",
    "\n",
    "model.fit(X_train_simp, y_train_simp)\n",
    "predictions = model.predict(X_test_simp)\n",
    "r2_score(y_test_simp, predictions)"
   ]
  },
  {
   "cell_type": "code",
   "execution_count": 228,
   "id": "79634ada",
   "metadata": {},
   "outputs": [
    {
     "data": {
      "text/plain": [
       "<matplotlib.collections.PathCollection at 0x7faa4610df40>"
      ]
     },
     "execution_count": 228,
     "metadata": {},
     "output_type": "execute_result"
    },
    {
     "data": {
      "image/png": "[encoded data removed]",
      "text/plain": [
       "<Figure size 432x288 with 1 Axes>"
      ]
     },
     "metadata": {
      "needs_background": "light"
     },
     "output_type": "display_data"
    }
   ],
   "source": [
    "plt.scatter(y_test_simp, predictions)"
   ]
  },
  {
   "cell_type": "code",
   "execution_count": 229,
   "id": "f833d2a0",
   "metadata": {},
   "outputs": [],
   "source": [
    "from sklearn.neighbors import KNeighborsRegressor"
   ]
  },
  {
   "cell_type": "code",
   "execution_count": 230,
   "id": "7b86d8cd",
   "metadata": {},
   "outputs": [
    {
     "data": {
      "text/plain": [
       "0.3623414652313619"
      ]
     },
     "execution_count": 230,
     "metadata": {},
     "output_type": "execute_result"
    }
   ],
   "source": [
    "model = KNeighborsRegressor(n_neighbors=5)\n",
    "\n",
    "model.fit(X_train, y_train)\n",
    "predictions = model.predict(X_test)\n",
    "r2_score(y_test, predictions)"
   ]
  },
  {
   "cell_type": "markdown",
   "id": "cb7bc370",
   "metadata": {},
   "source": [
    "# Predicing cLogP"
   ]
  },
  {
   "cell_type": "code",
   "execution_count": 249,
   "id": "35ea85ab",
   "metadata": {
    "scrolled": true
   },
   "outputs": [
    {
     "name": "stderr",
     "output_type": "stream",
     "text": [
      "/tmp/ipykernel_6863/2686615658.py:3: SettingWithCopyWarning: \n",
      "A value is trying to be set on a copy of a slice from a DataFrame\n",
      "\n",
      "See the caveats in the documentation: https://pandas.pydata.org/pandas-docs/stable/user_guide/indexing.html#returning-a-view-versus-a-copy\n",
      "  df_clogp.dropna(inplace=True)\n"
     ]
    },
    {
     "data": {
      "text/html": [
       "<div>\n",
       "<style scoped>\n",
       "    .dataframe tbody tr th:only-of-type {\n",
       "        vertical-align: middle;\n",
       "    }\n",
       "\n",
       "    .dataframe tbody tr th {\n",
       "        vertical-align: top;\n",
       "    }\n",
       "\n",
       "    .dataframe thead th {\n",
       "        text-align: right;\n",
       "    }\n",
       "</style>\n",
       "<table border=\"1\" class=\"dataframe\">\n",
       "  <thead>\n",
       "    <tr style=\"text-align: right;\">\n",
       "      <th></th>\n",
       "      <th>cLogP</th>\n",
       "      <th>Molecule</th>\n",
       "    </tr>\n",
       "  </thead>\n",
       "  <tbody>\n",
       "    <tr>\n",
       "      <th>0</th>\n",
       "      <td>2.61578</td>\n",
       "      <td style=\"text-align: center;\"><img data-content=\"rdkit/molecule\" src=\"data:image/png;base64,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\" alt=\"Mol\"/></td>\n",
       "    </tr>\n",
       "    <tr>\n",
       "      <th>1</th>\n",
       "      <td>2.13448</td>\n",
       "      <td style=\"text-align: center;\"><img data-content=\"rdkit/molecule\" src=\"data:image/png;base64,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\" alt=\"Mol\"/></td>\n",
       "    </tr>\n",
       "    <tr>\n",
       "      <th>2</th>\n",
       "      <td>3.04758</td>\n",
       "      <td style=\"text-align: center;\"><img data-content=\"rdkit/molecule\" src=\"data:image/png;base64,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\" alt=\"Mol\"/></td>\n",
       "    </tr>\n",
       "    <tr>\n",
       "      <th>3</th>\n",
       "      <td>1.47150</td>\n",
       "      <td style=\"text-align: center;\"><img data-content=\"rdkit/molecule\" src=\"data:image/png;base64,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\" alt=\"Mol\"/></td>\n",
       "    </tr>\n",
       "    <tr>\n",
       "      <th>4</th>\n",
       "      <td>1.88800</td>\n",
       "      <td style=\"text-align: center;\"><img data-content=\"rdkit/molecule\" src=\"data:image/png;base64,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\" alt=\"Mol\"/></td>\n",
       "    </tr>\n",
       "  </tbody>\n",
       "</table>\n",
       "</div>"
      ],
      "text/plain": [
       "<IPython.core.display.HTML object>"
      ]
     },
     "execution_count": 249,
     "metadata": {},
     "output_type": "execute_result"
    }
   ],
   "source": [
    "df_clogp = df_sub[[\"cLogP\",\"Molecule\"]]\n",
    "df_clogp[pd.to_numeric(df_clogp['cLogP'], errors='coerce').notnull()]\n",
    "df_clogp.dropna(inplace=True)\n",
    "\n",
    "show_df(df_clogp.head())"
   ]
  },
  {
   "cell_type": "code",
   "execution_count": 250,
   "id": "6b1a1f78",
   "metadata": {},
   "outputs": [],
   "source": [
    "fps = [Chem.RDKFingerprint(x) for x in df_clogp[\"Molecule\"]]\n",
    "IC50_list = list(df_clogp[\"cLogP\"])\n",
    "X_train , X_test , y_train, y_test = train_test_split(fps, IC50_list, random_state=0)"
   ]
  },
  {
   "cell_type": "code",
   "execution_count": null,
   "id": "76da3b4e",
   "metadata": {},
   "outputs": [],
   "source": [
    "model = svm.SVR(kernel=\"linear\")\n",
    "\n",
    "model.fit(X_train, y_train)\n",
    "predictions = model.predict(X_test)\n",
    "print(f\"R squared score is: {r2_score(y_test, predictions)}\")\n",
    "\n",
    "plt.scatter(y_test, predictions)"
   ]
  },
  {
   "cell_type": "markdown",
   "id": "2614efac",
   "metadata": {},
   "source": [
    "# Other correlations"
   ]
  },
  {
   "cell_type": "code",
   "execution_count": 37,
   "id": "b7b059b3",
   "metadata": {},
   "outputs": [],
   "source": [
    "#df_sub = df[[\"SMILES\", \"CID\", \"MW\", \"cLogP\", \"TPSA\", \"Rotatable Bonds\", \"Fraction sp3\", \"HBA\", \"HBD\", \"r_curve_IC50_y\", \"f_curve_IC50_y\"]]\n",
    "\n",
    "\n",
    "H_bonds_df = df_sub[[\"HBA\", \"HBD\"]]\n",
    "H_bonds_df = H_bonds_df[H_bonds_df[\"HBA\"] < 15]\n",
    "H_bonds_df = H_bonds_df[H_bonds_df[\"HBD\"] < 15]"
   ]
  },
  {
   "cell_type": "code",
   "execution_count": 39,
   "id": "4fd2c651",
   "metadata": {},
   "outputs": [
    {
     "data": {
      "image/png": "[encoded data removed]",
      "text/plain": [
       "<Figure size 1440x720 with 1 Axes>"
      ]
     },
     "metadata": {
      "needs_background": "light"
     },
     "output_type": "display_data"
    }
   ],
   "source": [
    "fig = plt.figure(figsize=(20,10))\n",
    "ax = fig.add_subplot(111)\n",
    "\n",
    "plt.scatter(H_bonds_df[\"HBA\"], H_bonds_df[\"HBD\"], alpha=0.01)\n",
    "plt.xlim(0,15)\n",
    "plt.ylim(0,15)\n",
    "plt.plot([0,15],[0,15], color=\"purple\")\n",
    "\n",
    "\n",
    "ax.set_aspect('equal', adjustable='box')\n",
    "\n",
    "#plt.title(f\"Neural network\\nTraining size = {len(X_train)}, test size = {len(X_test)}\\nR squared score = {round(r2_score(y_test, predictions), 2)}\")\n",
    "plt.xlabel(\"H bond acceptor\")\n",
    "plt.ylabel(\"H bond donor\")\n",
    "plt.show()"
   ]
  },
  {
   "cell_type": "code",
   "execution_count": null,
   "id": "1681b136",
   "metadata": {},
   "outputs": [],
   "source": []
  }
 ],
 "metadata": {
  "kernelspec": {
   "display_name": "Python 3 (ipykernel)",
   "language": "python",
   "name": "python3"
  },
  "language_info": {
   "codemirror_mode": {
    "name": "ipython",
    "version": 3
   },
   "file_extension": ".py",
   "mimetype": "text/x-python",
   "name": "python",
   "nbconvert_exporter": "python",
   "pygments_lexer": "ipython3",
   "version": "3.8.13"
  }
 },
 "nbformat": 4,
 "nbformat_minor": 5
}
